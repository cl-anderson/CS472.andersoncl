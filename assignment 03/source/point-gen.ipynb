{
 "cells": [
  {
   "cell_type": "code",
   "execution_count": 20,
   "metadata": {},
   "outputs": [],
   "source": [
    "# point-gen.ipynb\n",
    "# author: cl-anderson\n",
    "# purpose: generate data file of tuples representing observations of a tagged population\n",
    "# sources: https://docs.python.org/3/library/random.html\n",
    "\n",
    "import random\n",
    "file = open(\"generatedPoints2.txt\", \"a\")\n",
    "\n",
    "for i in range (1, 101):\n",
    "    x = random.randrange(0, 1000, 1)\n",
    "    y = random.randrange(0, 1000, 1)\n",
    "    file.write(str(x) + \" \" + str(y) + \"\\n\")\n",
    "\n",
    "file.close()"
   ]
  }
 ],
 "metadata": {
  "kernelspec": {
   "display_name": "base",
   "language": "python",
   "name": "python3"
  },
  "language_info": {
   "codemirror_mode": {
    "name": "ipython",
    "version": 3
   },
   "file_extension": ".py",
   "mimetype": "text/x-python",
   "name": "python",
   "nbconvert_exporter": "python",
   "pygments_lexer": "ipython3",
   "version": "3.11.4"
  }
 },
 "nbformat": 4,
 "nbformat_minor": 2
}
