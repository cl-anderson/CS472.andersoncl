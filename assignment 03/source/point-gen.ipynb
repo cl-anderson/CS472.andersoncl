{
 "cells": [
  {
   "cell_type": "code",
   "execution_count": null,
   "metadata": {},
   "outputs": [],
   "source": [
    "# point-gen.ipynb\n",
    "# author: cl-anderson\n",
    "# purpose: generate data file of tuples representing observations of a tagged population\n",
    "\n",
    "file = open(\"testpoints.txt\", \"w\")\n",
    "\n",
    "for \n",
    "file.close()"
   ]
  }
 ],
 "metadata": {
  "language_info": {
   "name": "python"
  }
 },
 "nbformat": 4,
 "nbformat_minor": 2
}
