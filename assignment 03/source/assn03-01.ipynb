{
 "cells": [
  {
   "cell_type": "code",
   "execution_count": 1,
   "metadata": {},
   "outputs": [
    {
     "ename": "FileNotFoundError",
     "evalue": "[Errno 2] No such file or directory: 'e2p2data.csv'",
     "output_type": "error",
     "traceback": [
      "\u001b[1;31m---------------------------------------------------------------------------\u001b[0m",
      "\u001b[1;31mFileNotFoundError\u001b[0m                         Traceback (most recent call last)",
      "\u001b[1;32mc:\\Users\\missl\\source\\repos\\cl-anderson\\CS472.andersoncl\\assignment 03\\source\\assn03-01.ipynb Cell 1\u001b[0m line \u001b[0;36m3\n\u001b[0;32m     <a href='vscode-notebook-cell:/c%3A/Users/missl/source/repos/cl-anderson/CS472.andersoncl/assignment%2003/source/assn03-01.ipynb#W1sZmlsZQ%3D%3D?line=31'>32</a>\u001b[0m                 \u001b[39mreturn\u001b[39;00m \u001b[39mTrue\u001b[39;00m\n\u001b[0;32m     <a href='vscode-notebook-cell:/c%3A/Users/missl/source/repos/cl-anderson/CS472.andersoncl/assignment%2003/source/assn03-01.ipynb#W1sZmlsZQ%3D%3D?line=32'>33</a>\u001b[0m filename \u001b[39m=\u001b[39m \u001b[39m'\u001b[39m\u001b[39me2p2data.csv\u001b[39m\u001b[39m'\u001b[39m\n\u001b[1;32m---> <a href='vscode-notebook-cell:/c%3A/Users/missl/source/repos/cl-anderson/CS472.andersoncl/assignment%2003/source/assn03-01.ipynb#W1sZmlsZQ%3D%3D?line=33'>34</a>\u001b[0m tracked_data \u001b[39m=\u001b[39m fileReader(filename)\n\u001b[0;32m     <a href='vscode-notebook-cell:/c%3A/Users/missl/source/repos/cl-anderson/CS472.andersoncl/assignment%2003/source/assn03-01.ipynb#W1sZmlsZQ%3D%3D?line=35'>36</a>\u001b[0m tester_results \u001b[39m=\u001b[39m []\n\u001b[0;32m     <a href='vscode-notebook-cell:/c%3A/Users/missl/source/repos/cl-anderson/CS472.andersoncl/assignment%2003/source/assn03-01.ipynb#W1sZmlsZQ%3D%3D?line=36'>37</a>\u001b[0m chull_points \u001b[39m=\u001b[39m []\n",
      "\u001b[1;32mc:\\Users\\missl\\source\\repos\\cl-anderson\\CS472.andersoncl\\assignment 03\\source\\assn03-01.ipynb Cell 1\u001b[0m line \u001b[0;36m1\n\u001b[0;32m     <a href='vscode-notebook-cell:/c%3A/Users/missl/source/repos/cl-anderson/CS472.andersoncl/assignment%2003/source/assn03-01.ipynb#W1sZmlsZQ%3D%3D?line=15'>16</a>\u001b[0m \u001b[39mdef\u001b[39;00m \u001b[39mfileReader\u001b[39m(file):\n\u001b[0;32m     <a href='vscode-notebook-cell:/c%3A/Users/missl/source/repos/cl-anderson/CS472.andersoncl/assignment%2003/source/assn03-01.ipynb#W1sZmlsZQ%3D%3D?line=16'>17</a>\u001b[0m     datalist \u001b[39m=\u001b[39m []\n\u001b[1;32m---> <a href='vscode-notebook-cell:/c%3A/Users/missl/source/repos/cl-anderson/CS472.andersoncl/assignment%2003/source/assn03-01.ipynb#W1sZmlsZQ%3D%3D?line=17'>18</a>\u001b[0m     \u001b[39mwith\u001b[39;00m \u001b[39mopen\u001b[39m(file, newline\u001b[39m=\u001b[39m\u001b[39m'\u001b[39m\u001b[39m'\u001b[39m) \u001b[39mas\u001b[39;00m csvfile:\n\u001b[0;32m     <a href='vscode-notebook-cell:/c%3A/Users/missl/source/repos/cl-anderson/CS472.andersoncl/assignment%2003/source/assn03-01.ipynb#W1sZmlsZQ%3D%3D?line=18'>19</a>\u001b[0m         bulkreader \u001b[39m=\u001b[39m csv\u001b[39m.\u001b[39mreader(csvfile, delimiter\u001b[39m=\u001b[39m\u001b[39m'\u001b[39m\u001b[39m \u001b[39m\u001b[39m'\u001b[39m)\n\u001b[0;32m     <a href='vscode-notebook-cell:/c%3A/Users/missl/source/repos/cl-anderson/CS472.andersoncl/assignment%2003/source/assn03-01.ipynb#W1sZmlsZQ%3D%3D?line=19'>20</a>\u001b[0m         \u001b[39mfor\u001b[39;00m row \u001b[39min\u001b[39;00m bulkreader:\n",
      "File \u001b[1;32mc:\\ProgramData\\anaconda3\\Lib\\site-packages\\IPython\\core\\interactiveshell.py:284\u001b[0m, in \u001b[0;36m_modified_open\u001b[1;34m(file, *args, **kwargs)\u001b[0m\n\u001b[0;32m    277\u001b[0m \u001b[39mif\u001b[39;00m file \u001b[39min\u001b[39;00m {\u001b[39m0\u001b[39m, \u001b[39m1\u001b[39m, \u001b[39m2\u001b[39m}:\n\u001b[0;32m    278\u001b[0m     \u001b[39mraise\u001b[39;00m \u001b[39mValueError\u001b[39;00m(\n\u001b[0;32m    279\u001b[0m         \u001b[39mf\u001b[39m\u001b[39m\"\u001b[39m\u001b[39mIPython won\u001b[39m\u001b[39m'\u001b[39m\u001b[39mt let you open fd=\u001b[39m\u001b[39m{\u001b[39;00mfile\u001b[39m}\u001b[39;00m\u001b[39m by default \u001b[39m\u001b[39m\"\u001b[39m\n\u001b[0;32m    280\u001b[0m         \u001b[39m\"\u001b[39m\u001b[39mas it is likely to crash IPython. If you know what you are doing, \u001b[39m\u001b[39m\"\u001b[39m\n\u001b[0;32m    281\u001b[0m         \u001b[39m\"\u001b[39m\u001b[39myou can use builtins\u001b[39m\u001b[39m'\u001b[39m\u001b[39m open.\u001b[39m\u001b[39m\"\u001b[39m\n\u001b[0;32m    282\u001b[0m     )\n\u001b[1;32m--> 284\u001b[0m \u001b[39mreturn\u001b[39;00m io_open(file, \u001b[39m*\u001b[39margs, \u001b[39m*\u001b[39m\u001b[39m*\u001b[39mkwargs)\n",
      "\u001b[1;31mFileNotFoundError\u001b[0m: [Errno 2] No such file or directory: 'e2p2data.csv'"
     ]
    }
   ],
   "source": [
    "#sources: https://www.geeksforgeeks.org/python-how-to-get-the-last-element-of-list/\n",
    "#         https://stackoverflow.com/questions/19257821/python-all-function-with-conditional-generator-expression-returning-true-why\n",
    "#         originally a submission for CS 417 Exam 2 question 3\n",
    "# author: cl-anderson\n",
    "# purpose: find the convex hull of a list of points.          \n",
    "\n",
    "import csv\n",
    "\n",
    "def pointTester(x, y, z):\n",
    "    a = y[1] - y[0]\n",
    "    b = x[0] - x[1]\n",
    "    c = (x[0] * x[1]) - (x[1] * y[0])\n",
    "    testvalue = (a *z[0] + b*z[1] - c)\n",
    "    return testvalue\n",
    "\n",
    "\n",
    "def fileReader(file):\n",
    "    datalist = []\n",
    "    with open(file, newline='') as csvfile:\n",
    "        bulkreader = csv.reader(csvfile, delimiter=' ')\n",
    "        for row in bulkreader:\n",
    "            datalist.append((int(row[0]), int(row[2])))\n",
    "    return datalist\n",
    "\n",
    "def check(list_):\n",
    "    if list[0] < 0:\n",
    "        for item in list_:\n",
    "            if item < 0:\n",
    "                return True\n",
    "    if list[0] == 0 or list[0] > 0:\n",
    "        for item in list_:\n",
    "            if item > 0:\n",
    "                return True\n",
    "filename = 'e2p2data.csv'\n",
    "tracked_data = fileReader(filename)\n",
    "\n",
    "tester_results = []\n",
    "chull_points = []\n",
    "for first_point in tracked_data:\n",
    "    for second_point in tracked_data:\n",
    "        if second_point != first_point:\n",
    "            tester_results.clear()\n",
    "            for third_point in tracked_data:\n",
    "                if (third_point != first_point) and (third_point != second_point):\n",
    "                    tester_number = pointTester(first_point, second_point, third_point)\n",
    "                    tester_results.append(tester_number)\n",
    "    if all(x < 0 for x in tester_results):\n",
    "        if all(y != first_point for y in chull_points):\n",
    "            chull_points.append(first_point)\n",
    "        if all(y != second_point for y in chull_points):\n",
    "            chull_points.append(second_point)\n",
    "    elif all(x > 0 for x in tester_results):\n",
    "        if all(y != first_point for y in chull_points):\n",
    "            chull_points.append(first_point)\n",
    "        if all(y != second_point for y in chull_points):\n",
    "            chull_points.append(second_point)\n",
    "\n",
    "for item in chull_points:\n",
    "    print(item, '\\n')\n",
    "\n",
    "print(\"c-hull comprised of \", len(chull_points), \" points.\")"
   ]
  }
 ],
 "metadata": {
  "kernelspec": {
   "display_name": "base",
   "language": "python",
   "name": "python3"
  },
  "language_info": {
   "codemirror_mode": {
    "name": "ipython",
    "version": 3
   },
   "file_extension": ".py",
   "mimetype": "text/x-python",
   "name": "python",
   "nbconvert_exporter": "python",
   "pygments_lexer": "ipython3",
   "version": "3.11.4"
  }
 },
 "nbformat": 4,
 "nbformat_minor": 2
}
